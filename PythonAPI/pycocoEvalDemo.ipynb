{
 "cells": [
  {
   "cell_type": "code",
   "execution_count": 1,
   "metadata": {
    "collapsed": false
   },
   "outputs": [],
   "source": [
    "from pycocotools.coco import COCO\n",
    "from pycocotools.cocoeval import COCOeval"
   ]
  },
  {
   "cell_type": "code",
   "execution_count": 2,
   "metadata": {
    "collapsed": false
   },
   "outputs": [
    {
     "name": "stdout",
     "output_type": "stream",
     "text": [
      "loading annotations into memory...\n",
      "Done (t=4.86s)\n",
      "creating index...\n",
      "index created!\n"
     ]
    }
   ],
   "source": [
    "#initialize COCO ground truth api\n",
    "annFile = '../annotations/instances_val2014.json'\n",
    "cocoGt = COCO(annFile)"
   ]
  },
  {
   "cell_type": "code",
   "execution_count": 3,
   "metadata": {},
   "outputs": [
    {
     "name": "stdout",
     "output_type": "stream",
     "text": [
      "Loading and preparing results...\n",
      "DONE (t=0.02s)\n",
      "creating index...\n",
      "index created!\n"
     ]
    }
   ],
   "source": [
    "resFile = \"../results/instances_val2014_fakebbox100_results.json\"\n",
    "cocoDt=cocoGt.loadRes(resFile)"
   ]
  },
  {
   "cell_type": "code",
   "execution_count": 4,
   "metadata": {
    "collapsed": false
   },
   "outputs": [],
   "source": [
    "imgIds=sorted(cocoGt.getImgIds())\n",
    "imgIds=imgIds[0:10]"
   ]
  },
  {
   "cell_type": "code",
   "execution_count": 5,
   "metadata": {},
   "outputs": [
    {
     "name": "stdout",
     "output_type": "stream",
     "text": [
      "downloaded 0/100 images (t=0.0s)\n",
      "downloaded 1/100 images (t=0.0s)\n",
      "downloaded 2/100 images (t=0.0s)\n",
      "downloaded 3/100 images (t=0.0s)\n",
      "downloaded 4/100 images (t=0.0s)\n",
      "downloaded 5/100 images (t=0.0s)\n",
      "downloaded 6/100 images (t=0.0s)\n",
      "downloaded 7/100 images (t=0.0s)\n",
      "downloaded 8/100 images (t=0.0s)\n",
      "downloaded 9/100 images (t=0.0s)\n",
      "downloaded 10/100 images (t=0.0s)\n",
      "downloaded 11/100 images (t=0.0s)\n",
      "downloaded 12/100 images (t=0.0s)\n",
      "downloaded 13/100 images (t=0.0s)\n",
      "downloaded 14/100 images (t=0.0s)\n",
      "downloaded 15/100 images (t=0.0s)\n",
      "downloaded 16/100 images (t=0.0s)\n",
      "downloaded 17/100 images (t=0.0s)\n",
      "downloaded 18/100 images (t=0.0s)\n",
      "downloaded 19/100 images (t=0.0s)\n",
      "downloaded 20/100 images (t=0.0s)\n",
      "downloaded 21/100 images (t=0.0s)\n",
      "downloaded 22/100 images (t=0.0s)\n",
      "downloaded 23/100 images (t=0.0s)\n",
      "downloaded 24/100 images (t=0.0s)\n",
      "downloaded 25/100 images (t=0.0s)\n",
      "downloaded 26/100 images (t=0.0s)\n",
      "downloaded 27/100 images (t=0.0s)\n",
      "downloaded 28/100 images (t=0.0s)\n",
      "downloaded 29/100 images (t=0.0s)\n",
      "downloaded 30/100 images (t=0.0s)\n",
      "downloaded 31/100 images (t=0.0s)\n",
      "downloaded 32/100 images (t=0.0s)\n",
      "downloaded 33/100 images (t=0.0s)\n",
      "downloaded 34/100 images (t=0.0s)\n",
      "downloaded 35/100 images (t=0.0s)\n",
      "downloaded 36/100 images (t=0.0s)\n",
      "downloaded 37/100 images (t=0.0s)\n",
      "downloaded 38/100 images (t=0.0s)\n",
      "downloaded 39/100 images (t=0.0s)\n",
      "downloaded 40/100 images (t=0.0s)\n",
      "downloaded 41/100 images (t=0.0s)\n",
      "downloaded 42/100 images (t=0.0s)\n",
      "downloaded 43/100 images (t=0.0s)\n",
      "downloaded 44/100 images (t=0.0s)\n",
      "downloaded 45/100 images (t=0.0s)\n",
      "downloaded 46/100 images (t=0.0s)\n",
      "downloaded 47/100 images (t=0.0s)\n",
      "downloaded 48/100 images (t=0.0s)\n",
      "downloaded 49/100 images (t=0.0s)\n",
      "downloaded 50/100 images (t=0.0s)\n",
      "downloaded 51/100 images (t=0.0s)\n",
      "downloaded 52/100 images (t=0.0s)\n",
      "downloaded 53/100 images (t=0.0s)\n",
      "downloaded 54/100 images (t=0.0s)\n",
      "downloaded 55/100 images (t=0.0s)\n",
      "downloaded 56/100 images (t=0.0s)\n",
      "downloaded 57/100 images (t=0.0s)\n",
      "downloaded 58/100 images (t=0.0s)\n",
      "downloaded 59/100 images (t=0.0s)\n",
      "downloaded 60/100 images (t=0.0s)\n",
      "downloaded 61/100 images (t=0.0s)\n",
      "downloaded 62/100 images (t=0.0s)\n",
      "downloaded 63/100 images (t=0.0s)\n",
      "downloaded 64/100 images (t=0.0s)\n",
      "downloaded 65/100 images (t=0.0s)\n",
      "downloaded 66/100 images (t=0.0s)\n",
      "downloaded 67/100 images (t=0.0s)\n",
      "downloaded 68/100 images (t=0.0s)\n",
      "downloaded 69/100 images (t=0.0s)\n",
      "downloaded 70/100 images (t=0.0s)\n",
      "downloaded 71/100 images (t=0.0s)\n",
      "downloaded 72/100 images (t=0.0s)\n",
      "downloaded 73/100 images (t=0.0s)\n",
      "downloaded 74/100 images (t=0.0s)\n",
      "downloaded 75/100 images (t=0.0s)\n",
      "downloaded 76/100 images (t=0.0s)\n",
      "downloaded 77/100 images (t=0.0s)\n",
      "downloaded 78/100 images (t=0.0s)\n",
      "downloaded 79/100 images (t=0.0s)\n",
      "downloaded 80/100 images (t=0.0s)\n",
      "downloaded 81/100 images (t=0.0s)\n",
      "downloaded 82/100 images (t=0.0s)\n",
      "downloaded 83/100 images (t=0.0s)\n",
      "downloaded 84/100 images (t=0.0s)\n",
      "downloaded 85/100 images (t=0.0s)\n",
      "downloaded 86/100 images (t=0.0s)\n",
      "downloaded 87/100 images (t=0.0s)\n",
      "downloaded 88/100 images (t=0.0s)\n",
      "downloaded 89/100 images (t=0.0s)\n",
      "downloaded 90/100 images (t=0.0s)\n",
      "downloaded 91/100 images (t=0.0s)\n",
      "downloaded 92/100 images (t=0.0s)\n",
      "downloaded 93/100 images (t=0.0s)\n",
      "downloaded 94/100 images (t=0.0s)\n",
      "downloaded 95/100 images (t=0.0s)\n",
      "downloaded 96/100 images (t=0.0s)\n",
      "downloaded 97/100 images (t=0.0s)\n",
      "downloaded 98/100 images (t=0.0s)\n",
      "downloaded 99/100 images (t=0.0s)\n"
     ]
    }
   ],
   "source": [
    "cocoGt.download(tarDir=\"../images\", imgIds=imgIds)"
   ]
  },
  {
   "cell_type": "code",
   "execution_count": 6,
   "metadata": {
    "collapsed": false
   },
   "outputs": [
    {
     "name": "stderr",
     "output_type": "stream",
     "text": [
      "Failed to detect the name of this notebook, you can set it manually with the WANDB_NOTEBOOK_NAME environment variable to enable code saving.\n",
      "wandb: WARNING Path /Users/ben/tmp/wandb/wandb/ wasn't writable, using system temp directory\n",
      "\u001b[34m\u001b[1mwandb\u001b[0m: \u001b[33mWARNING\u001b[0m Path /Users/ben/tmp/wandb/wandb/ wasn't writable, using system temp directory\n",
      "\u001b[34m\u001b[1mwandb\u001b[0m: Currently logged in as: \u001b[33mbcanfieldsherman\u001b[0m. Use \u001b[1m`wandb login --relogin`\u001b[0m to force relogin\n",
      "\u001b[34m\u001b[1mwandb\u001b[0m: \u001b[33mWARNING\u001b[0m Path /Users/ben/tmp/wandb/wandb/ wasn't writable, using system temp directory.\n",
      "/Users/ben/.pyenv/versions/3.7.12/envs/coco/lib/python3.7/site-packages/IPython/html.py:14: ShimWarning: The `IPython.html` package has been deprecated since IPython 4.0. You should import from `notebook` instead. `IPython.html.widgets` has moved to `ipywidgets`.\n",
      "  \"`IPython.html.widgets` has moved to `ipywidgets`.\", ShimWarning)\n"
     ]
    },
    {
     "data": {
      "text/html": [
       "Tracking run with wandb version 0.13.2"
      ],
      "text/plain": [
       "<IPython.core.display.HTML object>"
      ]
     },
     "metadata": {},
     "output_type": "display_data"
    },
    {
     "data": {
      "text/html": [
       "Run data is saved locally in <code>/var/folders/v7/0zl7lrrs2hsdm8msvrbp82qh0000gn/T/wandb/run-20220830_133536-3g399g1q</code>"
      ],
      "text/plain": [
       "<IPython.core.display.HTML object>"
      ]
     },
     "metadata": {},
     "output_type": "display_data"
    },
    {
     "data": {
      "text/html": [
       "Syncing run <strong><a href=\"https://wandb.ai/bcanfieldsherman/coco/runs/3g399g1q\" target=\"_blank\">bright-sponge-5</a></strong> to <a href=\"https://wandb.ai/bcanfieldsherman/coco\" target=\"_blank\">Weights & Biases</a> (<a href=\"https://wandb.me/run\" target=\"_blank\">docs</a>)<br/>"
      ],
      "text/plain": [
       "<IPython.core.display.HTML object>"
      ]
     },
     "metadata": {},
     "output_type": "display_data"
    },
    {
     "name": "stdout",
     "output_type": "stream",
     "text": [
      "Running per image evaluation...\n",
      "Evaluate annotation type *bbox*\n",
      "DONE (t=0.27s).\n",
      "Accumulating evaluation results...\n",
      "DONE (t=0.33s).\n",
      " Average Precision  (AP) @[ IoU=0.50:0.95 | area=   all | maxDets=100 ] = 0.505\n",
      " Average Precision  (AP) @[ IoU=0.50      | area=   all | maxDets=100 ] = 0.697\n",
      " Average Precision  (AP) @[ IoU=0.75      | area=   all | maxDets=100 ] = 0.573\n",
      " Average Precision  (AP) @[ IoU=0.50:0.95 | area= small | maxDets=100 ] = 0.586\n",
      " Average Precision  (AP) @[ IoU=0.50:0.95 | area=medium | maxDets=100 ] = 0.519\n",
      " Average Precision  (AP) @[ IoU=0.50:0.95 | area= large | maxDets=100 ] = 0.501\n",
      " Average Recall     (AR) @[ IoU=0.50:0.95 | area=   all | maxDets=  1 ] = 0.387\n",
      " Average Recall     (AR) @[ IoU=0.50:0.95 | area=   all | maxDets= 10 ] = 0.594\n",
      " Average Recall     (AR) @[ IoU=0.50:0.95 | area=   all | maxDets=100 ] = 0.595\n",
      " Average Recall     (AR) @[ IoU=0.50:0.95 | area= small | maxDets=100 ] = 0.640\n",
      " Average Recall     (AR) @[ IoU=0.50:0.95 | area=medium | maxDets=100 ] = 0.566\n",
      " Average Recall     (AR) @[ IoU=0.50:0.95 | area= large | maxDets=100 ] = 0.564\n"
     ]
    }
   ],
   "source": [
    "# running evaluation\n",
    "cocoEval = COCOeval(cocoGt,cocoDt, \"bbox\", wandb_args={\"project\": \"coco\"})\n",
    "cocoEval.params.imgIds  = imgIds\n",
    "cocoEval.evaluate()\n",
    "cocoEval.accumulate()\n",
    "cocoEval.summarize()"
   ]
  },
  {
   "cell_type": "code",
   "execution_count": 7,
   "metadata": {},
   "outputs": [
    {
     "data": {
      "text/html": [
       "Waiting for W&B process to finish... <strong style=\"color:green\">(success).</strong>"
      ],
      "text/plain": [
       "<IPython.core.display.HTML object>"
      ]
     },
     "metadata": {},
     "output_type": "display_data"
    },
    {
     "data": {
      "text/html": [
       "Synced <strong style=\"color:#cdcd00\">bright-sponge-5</strong>: <a href=\"https://wandb.ai/bcanfieldsherman/coco/runs/3g399g1q\" target=\"_blank\">https://wandb.ai/bcanfieldsherman/coco/runs/3g399g1q</a><br/>Synced 6 W&B file(s), 1 media file(s), 1 artifact file(s) and 0 other file(s)"
      ],
      "text/plain": [
       "<IPython.core.display.HTML object>"
      ]
     },
     "metadata": {},
     "output_type": "display_data"
    },
    {
     "data": {
      "text/html": [
       "Find logs at: <code>/var/folders/v7/0zl7lrrs2hsdm8msvrbp82qh0000gn/T/wandb/run-20220830_133536-3g399g1q/logs</code>"
      ],
      "text/plain": [
       "<IPython.core.display.HTML object>"
      ]
     },
     "metadata": {},
     "output_type": "display_data"
    }
   ],
   "source": [
    "import wandb\n",
    "wandb.finish()"
   ]
  }
 ],
 "metadata": {
  "kernelspec": {
   "display_name": "Python 3.7.12 64-bit ('coco')",
   "language": "python",
   "name": "python3"
  },
  "language_info": {
   "codemirror_mode": {
    "name": "ipython",
    "version": 3
   },
   "file_extension": ".py",
   "mimetype": "text/x-python",
   "name": "python",
   "nbconvert_exporter": "python",
   "pygments_lexer": "ipython3",
   "version": "3.7.12"
  },
  "vscode": {
   "interpreter": {
    "hash": "61b99641576e8100e0f848a6d1d0669f7ecd53d64438cf857e49932083d716c8"
   }
  }
 },
 "nbformat": 4,
 "nbformat_minor": 0
}
